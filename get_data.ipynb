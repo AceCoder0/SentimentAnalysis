{
 "cells": [
  {
   "cell_type": "markdown",
   "source": [
    "# 关于亚马逊平台上“中国研究”主题的相关书籍的用户评论的情感分析\n",
    "主要任务是建立一个二分类情感分析系统，用于分析用户评论的情感极性。"
   ],
   "metadata": {
    "collapsed": false,
    "pycharm": {
     "name": "#%% md\n"
    }
   }
  },
  {
   "cell_type": "markdown",
   "source": [
    "## 从亚马逊网站上选择一些关于研究中国的书籍的用户评论"
   ],
   "metadata": {
    "collapsed": false,
    "pycharm": {
     "name": "#%% md\n"
    }
   }
  },
  {
   "cell_type": "markdown",
   "source": [
    "数据说明：在搜索框内输入“china”， 爬取排序较为靠前的10本书的全部评论；存入'./raw/data/'路径下。\n",
    "数据处理：每一个评论文件表格的‘a-icon-alt’， ‘a-size-base’， ‘a-size-base 3’分别是评分星数（1星为最差，5星为最好）， 评论标题， 评论文本。这是我们主要关注的数据，将把它们提取出来。"
   ],
   "metadata": {
    "collapsed": false,
    "pycharm": {
     "name": "#%% md\n"
    }
   }
  },
  {
   "cell_type": "code",
   "execution_count": 29,
   "outputs": [],
   "source": [
    "import pandas as pd\n",
    "import os\n",
    "\n",
    "raw_data_path = r'./raw_data/'\n",
    "files = os.listdir(raw_data_path)"
   ],
   "metadata": {
    "collapsed": false,
    "pycharm": {
     "name": "#%%\n"
    }
   }
  },
  {
   "cell_type": "code",
   "execution_count": 30,
   "outputs": [],
   "source": [
    "# 定义处理一个csv文件成为rating_float, tle_txt_str两列的DataFrame\n",
    "def filter_data(file_name):\n",
    "    df = pd.read_csv(raw_data_path+file_name)\n",
    "    # 选取我们所关注的行\n",
    "    df = df[['a-icon-alt', 'a-size-base', 'a-size-base 3']]\n",
    "    df.columns = ['rating_str', 'title_str', 'text_str']\n",
    "    # 删除有nan的列\n",
    "    df = df.dropna(axis=0, how='any')\n",
    "    # 把rating_str处理成数值类型\n",
    "    rating_f_list = \\\n",
    "    [float(s[:3])\n",
    "        for s in df['rating_str'].tolist()\n",
    "    ]\n",
    "    df['rating_float'] = rating_f_list\n",
    "    # 将标题和文本拼接\n",
    "    title_text = \\\n",
    "    [   df['title_str'][idx] + ' ' + df['text_str'][idx]\n",
    "        for idx in df.index\n",
    "    ]\n",
    "    df['tle_txt_str'] = title_text\n",
    "    # 删除不需要的列\n",
    "    df = df[['tle_txt_str', 'rating_float']]\n",
    "    print(file_name+'OK')\n",
    "    return df\n"
   ],
   "metadata": {
    "collapsed": false,
    "pycharm": {
     "name": "#%%\n"
    }
   }
  },
  {
   "cell_type": "code",
   "execution_count": 31,
   "outputs": [
    {
     "name": "stdout",
     "output_type": "stream",
     "text": [
      "China After Mao The Rise of a Superpower.csvOK\n",
      "China The Novel.csvOK\n",
      "Invisible China How the Urban-Rural Divide Threatens China’s Rise.csvOK\n",
      "Red-Handed How American Elites Get Rich Helping China Win.csvOK\n",
      "The Avoidable War The Dangers of a Catastrophic Conflict between the US and Xi Jinping's China.csvOK\n",
      "The China Mirage The Hidden History of American Disaster in Asia.csvOK\n",
      "The Coming Conflict with China.csvOK\n",
      "The Long Game China's Grand Strategy to Displace American Order.csvOK\n",
      "The Opium War Drugs, Dreams, and the Making of Modern China.csvOK\n",
      "The Party The Secret World of China's Communist Rulers.csvOK\n"
     ]
    }
   ],
   "source": [
    "dfs = [\n",
    "    filter_data(file_name)\n",
    "    for file_name in files\n",
    "]   # DataFrame列表"
   ],
   "metadata": {
    "collapsed": false,
    "pycharm": {
     "name": "#%%\n"
    }
   }
  },
  {
   "cell_type": "code",
   "execution_count": 33,
   "outputs": [
    {
     "data": {
      "text/plain": "(1591, 2)"
     },
     "execution_count": 33,
     "metadata": {},
     "output_type": "execute_result"
    }
   ],
   "source": [
    "# 拼接得到所有的tle_txt, rating_float数据\n",
    "data_df = pd.concat(objs=dfs, ignore_index=True)\n",
    "data_df.shape\n",
    "# 这个数据很小，可能导致模型的效果不好，但是我们只是做一个小的demo，后续可以按需要优化"
   ],
   "metadata": {
    "collapsed": false,
    "pycharm": {
     "name": "#%%\n"
    }
   }
  },
  {
   "cell_type": "code",
   "execution_count": 34,
   "outputs": [
    {
     "data": {
      "text/plain": "<Axes: >"
     },
     "execution_count": 34,
     "metadata": {},
     "output_type": "execute_result"
    },
    {
     "data": {
      "text/plain": "<Figure size 640x480 with 1 Axes>",
      "image/png": "[encoded data removed]"
     },
     "metadata": {},
     "output_type": "display_data"
    }
   ],
   "source": [
    "# 画出rating的hist图\n",
    "data_df['rating_float'].hist()"
   ],
   "metadata": {
    "collapsed": false,
    "pycharm": {
     "name": "#%%\n"
    }
   }
  },
  {
   "cell_type": "markdown",
   "source": [
    " 发现数据标签不平衡，我们暂且考虑，规定小于4分的标签定位负面(neg)，4分以及以上的规定为证明评价(pos)。"
   ],
   "metadata": {
    "collapsed": false,
    "pycharm": {
     "name": "#%% md\n"
    }
   }
  },
  {
   "cell_type": "code",
   "execution_count": 35,
   "outputs": [],
   "source": [
    "# 将二分类数据存入文件\n",
    "pos_path = r'./pos'\n",
    "neg_path = r'./neg'\n",
    "os.mkdir(pos_path)\n",
    "os.mkdir(neg_path)\n",
    "# 分别创建.txt文件写入到相应的文件夹\n",
    "for idx, row in data_df.iterrows():\n",
    "    if row['rating_float'] < 4.:\n",
    "        txt_path = r'./neg/'\n",
    "    else:\n",
    "        txt_path = r'./pos/'\n",
    "    txt = open(txt_path+'review_'+str(idx)+'.txt', 'w', encoding='utf-8')\n",
    "    txt.write(row['tle_txt_str'])\n",
    "    txt.close()"
   ],
   "metadata": {
    "collapsed": false,
    "pycharm": {
     "name": "#%%\n"
    }
   }
  },
  {
   "cell_type": "code",
   "execution_count": 4,
   "outputs": [
    {
     "data": {
      "text/plain": "(214, 1377)"
     },
     "execution_count": 4,
     "metadata": {},
     "output_type": "execute_result"
    }
   ],
   "source": [
    "# 划分训练集和测试集\n",
    "import os\n",
    "train_neg_path, train_pos_path, test_neg_path, test_pos_path = \\\n",
    "    r'./train/neg/', r'./train/pos/', r'./test/neg/', r'./test/pos/'\n",
    "num_pos_sample, num_neg_sample = len(os.listdir(r'./pos/')), len(os.listdir(r'./neg/'))\n",
    "num_neg_sample, num_pos_sample\n",
    "# 发现正负类不平衡问题"
   ],
   "metadata": {
    "collapsed": false,
    "pycharm": {
     "name": "#%%\n"
    }
   }
  },
  {
   "cell_type": "code",
   "execution_count": 9,
   "outputs": [],
   "source": [
    "os.mkdir(r'./train/')\n",
    "os.mkdir(r'./test/')\n",
    "for path in [train_neg_path, train_pos_path, test_neg_path, test_pos_path]:\n",
    "    os.mkdir(path)"
   ],
   "metadata": {
    "collapsed": false,
    "pycharm": {
     "name": "#%%\n"
    }
   }
  },
  {
   "cell_type": "code",
   "execution_count": 5,
   "outputs": [],
   "source": [
    "# 从正负类样本中分别选择10%作为验证集和测试集\n",
    "import random\n",
    "test_percent = 0.1\n",
    "pos_txts = os.listdir(r'./pos/')\n",
    "neg_txts = os.listdir(r'./neg/')\n",
    "test_txts_pos = random.choices(pos_txts, k=int(test_percent*num_pos_sample))\n",
    "test_txt_neg = random.choices(neg_txts, k=int(test_percent*num_neg_sample))"
   ],
   "metadata": {
    "collapsed": false,
    "pycharm": {
     "name": "#%%\n"
    }
   }
  },
  {
   "cell_type": "code",
   "execution_count": 20,
   "outputs": [],
   "source": [
    "# 将对应文件复制到相应的文件夹\n",
    "from shutil import copyfile\n",
    "# 测试集正样例\n",
    "for txt in test_txts_pos:\n",
    "    f = open(test_pos_path+txt, 'w', encoding='utf-8')\n",
    "    copyfile(r'./pos/'+txt, test_pos_path+txt)\n",
    "    f.close()\n",
    "# 测试集负样例\n",
    "for txt in test_txt_neg:\n",
    "    f = open(test_neg_path+txt, 'w', encoding='utf-8')\n",
    "    copyfile(r'./neg/'+txt, test_neg_path+txt)\n",
    "    f.close()\n",
    "# 训练集正样例\n",
    "train_txt_pos = list(set(pos_txts)-set(test_txts_pos))\n",
    "for txt in train_txt_pos:\n",
    "    f = open(train_pos_path+txt, 'w', encoding='utf-8')\n",
    "    copyfile(r'./pos/'+txt, train_pos_path+txt)\n",
    "    f.close()\n",
    "# 训练集负样例\n",
    "train_txt_neg = list(set(neg_txts)-set(test_txt_neg))\n",
    "for txt in train_txt_neg:\n",
    "    f = open(train_neg_path+txt, 'w', encoding='utf-8')\n",
    "    copyfile(r'./neg/'+txt, train_neg_path+txt)\n",
    "    f.close()"
   ],
   "metadata": {
    "collapsed": false,
    "pycharm": {
     "name": "#%%\n"
    }
   }
  },
  {
   "cell_type": "code",
   "execution_count": null,
   "outputs": [],
   "source": [],
   "metadata": {
    "collapsed": false,
    "pycharm": {
     "name": "#%%\n"
    }
   }
  },
  {
   "cell_type": "code",
   "execution_count": null,
   "outputs": [],
   "source": [],
   "metadata": {
    "collapsed": false,
    "pycharm": {
     "name": "#%%\n"
    }
   }
  }
 ],
 "metadata": {
  "kernelspec": {
   "display_name": "Python 3",
   "language": "python",
   "name": "python3"
  },
  "language_info": {
   "codemirror_mode": {
    "name": "ipython",
    "version": 2
   },
   "file_extension": ".py",
   "mimetype": "text/x-python",
   "name": "python",
   "nbconvert_exporter": "python",
   "pygments_lexer": "ipython2",
   "version": "2.7.6"
  }
 },
 "nbformat": 4,
 "nbformat_minor": 0
}